{
 "cells": [
  {
   "cell_type": "code",
   "execution_count": 2,
   "id": "2bbd9107-e2ff-405a-bee8-1b3905648b64",
   "metadata": {
    "tags": []
   },
   "outputs": [],
   "source": [
    "import pandas as pd\n",
    "from sklearn.linear_model import LinearRegression, Ridge\n",
    "from sklearn.ensemble import RandomForestRegressor, GradientBoostingRegressor\n",
    "from sklearn.svm import SVR\n",
    "from sklearn.model_selection import cross_val_score\n",
    "\n",
    "\n",
    "def get_test_data():\n",
    "    return pd.read_csv('internship_hidden_test.csv')\n",
    "\n",
    "\n",
    "def get_train_data():\n",
    "    df = pd.read_csv('internship_train.csv')\n",
    "    X = df.drop('target', axis=1)\n",
    "    y = df['target']\n",
    "    return X, y\n",
    "\n",
    "\n",
    "def get_scores(X, y, model):\n",
    "    return cross_val_score(model, X, y, scoring='neg_root_mean_squared_error')\n",
    "\n",
    "\n",
    "X, y = get_train_data()"
   ]
  },
  {
   "cell_type": "code",
   "execution_count": 5,
   "id": "36e51ad9-1846-4c26-a69e-1af10ec88e79",
   "metadata": {
    "tags": []
   },
   "outputs": [
    {
     "name": "stdout",
     "output_type": "stream",
     "text": [
      "Linear Regression model\n",
      "RMSE: [29.00299256 28.81923884 29.00791037 28.75718606 28.94778811]\n",
      "Середнє RMSE: 28.907023187685677\n"
     ]
    }
   ],
   "source": [
    "def get_linear_regression_model():\n",
    "    return LinearRegression()\n",
    "\n",
    "model = get_linear_regression_model()\n",
    "scores = get_scores(X, y, model)\n",
    "print('Linear Regression model')\n",
    "print('RMSE:', -scores)\n",
    "print('Середнє RMSE:', -scores.mean())"
   ]
  },
  {
   "cell_type": "code",
   "execution_count": 7,
   "id": "a36484f7-fd9f-4c99-b521-d90c5a9b4629",
   "metadata": {
    "tags": []
   },
   "outputs": [
    {
     "name": "stdout",
     "output_type": "stream",
     "text": [
      "Random Forest Regressor\n",
      "RMSE: [0.00524162 0.00524754 0.00514509 0.00515969 0.00518581]\n",
      "Середнє RMSE: 0.005195949340273726\n"
     ]
    }
   ],
   "source": [
    "def get_random_forest_regressor():\n",
    "    return RandomForestRegressor(n_estimators=10)\n",
    "\n",
    "model = get_random_forest_regressor()\n",
    "scores = get_scores(X, y, model)\n",
    "print('Random Forest Regressor')\n",
    "print('RMSE:', -scores)\n",
    "print('Середнє RMSE:', -scores.mean())"
   ]
  },
  {
   "cell_type": "code",
   "execution_count": 9,
   "id": "55bb2b06-8066-41aa-bd9c-4442dd495496",
   "metadata": {
    "tags": []
   },
   "outputs": [
    {
     "name": "stdout",
     "output_type": "stream",
     "text": [
      "Gradiend Boosting Regressor\n",
      "RMSE: [11.92909356 11.80614628 11.96209471 11.76469236 11.90397561]\n",
      "Середнє RMSE: 11.873200505267594\n"
     ]
    }
   ],
   "source": [
    "def get_gradient_boosting_regressor():\n",
    "    return GradientBoostingRegressor(n_estimators=10)\n",
    "\n",
    "model = get_gradient_boosting_regressor()\n",
    "scores = get_scores(X, y, model)\n",
    "print('Gradiend Boosting Regressor')\n",
    "print('RMSE:', -scores)\n",
    "print('Середнє RMSE:', -scores.mean())"
   ]
  },
  {
   "cell_type": "code",
   "execution_count": 10,
   "id": "32a7e0ce-5214-414f-8d5d-1f51ae61017a",
   "metadata": {
    "tags": []
   },
   "outputs": [
    {
     "name": "stdout",
     "output_type": "stream",
     "text": [
      "Ridge\n",
      "RMSE: [29.00299293 28.81923917 29.00790964 28.75718542 28.94778714]\n",
      "Середнє RMSE: 28.907022860534266\n"
     ]
    }
   ],
   "source": [
    "def get_ridge():\n",
    "    return Ridge()\n",
    "\n",
    "model = get_ridge()\n",
    "scores = get_scores(X, y, model)\n",
    "print('Ridge')\n",
    "print('RMSE:', -scores)\n",
    "print('Середнє RMSE:', -scores.mean())"
   ]
  },
  {
   "cell_type": "code",
   "execution_count": 11,
   "id": "86f62314-f184-402e-9099-266e4ccdcba3",
   "metadata": {
    "tags": []
   },
   "outputs": [
    {
     "name": "stdout",
     "output_type": "stream",
     "text": [
      "SVR\n",
      "RMSE: [29.00521235 28.83586561 29.00808021 28.77137562 28.96169041]\n",
      "Середнє RMSE: 28.916444841695657\n"
     ]
    }
   ],
   "source": [
    "def get_svr():\n",
    "    return SVR()\n",
    "\n",
    "model = get_svr()\n",
    "scores = get_scores(X, y, model)\n",
    "print('SVR')\n",
    "print('RMSE:', -scores)\n",
    "print('Середнє RMSE:', -scores.mean())"
   ]
  },
  {
   "cell_type": "code",
   "execution_count": null,
   "id": "6b265fdb-d063-4805-bfd7-f0a6f973ada5",
   "metadata": {},
   "outputs": [],
   "source": []
  }
 ],
 "metadata": {
  "kernelspec": {
   "display_name": "Python 3 (ipykernel)",
   "language": "python",
   "name": "python3"
  },
  "language_info": {
   "codemirror_mode": {
    "name": "ipython",
    "version": 3
   },
   "file_extension": ".py",
   "mimetype": "text/x-python",
   "name": "python",
   "nbconvert_exporter": "python",
   "pygments_lexer": "ipython3",
   "version": "3.9.0"
  }
 },
 "nbformat": 4,
 "nbformat_minor": 5
}
