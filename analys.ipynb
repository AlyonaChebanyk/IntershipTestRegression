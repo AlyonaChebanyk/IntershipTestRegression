{
 "cells": [
  {
   "cell_type": "code",
   "execution_count": 2,
   "id": "2bbd9107-e2ff-405a-bee8-1b3905648b64",
   "metadata": {
    "tags": []
   },
   "outputs": [],
   "source": [
    "import pandas as pd\n",
    "from sklearn.linear_model import LinearRegression, Ridge\n",
    "from sklearn.ensemble import RandomForestRegressor, GradientBoostingRegressor\n",
    "from sklearn.svm import SVR\n",
    "from sklearn.model_selection import cross_val_score\n",
    "\n",
    "# Імпортування даних для тренування\n",
    "def get_train_data():\n",
    "    df = pd.read_csv('internship_train.csv')\n",
    "    X = df.drop('target', axis=1)\n",
    "    y = df['target']\n",
    "    return X, y\n",
    "\n",
    "# Функція для розрахунку помилки моделі по метриці RMSE \n",
    "def get_scores(X, y, model):\n",
    "    return cross_val_score(model, X, y, scoring='neg_root_mean_squared_error')"
   ]
  },
  {
   "cell_type": "code",
   "execution_count": 8,
   "id": "dae6d15c-3b30-42d0-b0e6-f5a0f0d3ebfe",
   "metadata": {
    "tags": []
   },
   "outputs": [
    {
     "name": "stdout",
     "output_type": "stream",
     "text": [
      "Навчальні дані\n"
     ]
    },
    {
     "data": {
      "text/html": [
       "<div>\n",
       "<style scoped>\n",
       "    .dataframe tbody tr th:only-of-type {\n",
       "        vertical-align: middle;\n",
       "    }\n",
       "\n",
       "    .dataframe tbody tr th {\n",
       "        vertical-align: top;\n",
       "    }\n",
       "\n",
       "    .dataframe thead th {\n",
       "        text-align: right;\n",
       "    }\n",
       "</style>\n",
       "<table border=\"1\" class=\"dataframe\">\n",
       "  <thead>\n",
       "    <tr style=\"text-align: right;\">\n",
       "      <th></th>\n",
       "      <th>0</th>\n",
       "      <th>1</th>\n",
       "      <th>2</th>\n",
       "      <th>3</th>\n",
       "      <th>4</th>\n",
       "      <th>5</th>\n",
       "      <th>6</th>\n",
       "      <th>7</th>\n",
       "      <th>8</th>\n",
       "      <th>9</th>\n",
       "      <th>...</th>\n",
       "      <th>43</th>\n",
       "      <th>44</th>\n",
       "      <th>45</th>\n",
       "      <th>46</th>\n",
       "      <th>47</th>\n",
       "      <th>48</th>\n",
       "      <th>49</th>\n",
       "      <th>50</th>\n",
       "      <th>51</th>\n",
       "      <th>52</th>\n",
       "    </tr>\n",
       "  </thead>\n",
       "  <tbody>\n",
       "    <tr>\n",
       "      <th>0</th>\n",
       "      <td>236</td>\n",
       "      <td>488</td>\n",
       "      <td>16</td>\n",
       "      <td>221</td>\n",
       "      <td>382</td>\n",
       "      <td>97</td>\n",
       "      <td>-4.472136</td>\n",
       "      <td>0.107472</td>\n",
       "      <td>0</td>\n",
       "      <td>132</td>\n",
       "      <td>...</td>\n",
       "      <td>10.125020</td>\n",
       "      <td>13.340874</td>\n",
       "      <td>0.870542</td>\n",
       "      <td>1.962937</td>\n",
       "      <td>7.466666</td>\n",
       "      <td>11.547794</td>\n",
       "      <td>8.822916</td>\n",
       "      <td>9.046424</td>\n",
       "      <td>7.895535</td>\n",
       "      <td>11.010677</td>\n",
       "    </tr>\n",
       "    <tr>\n",
       "      <th>1</th>\n",
       "      <td>386</td>\n",
       "      <td>206</td>\n",
       "      <td>357</td>\n",
       "      <td>232</td>\n",
       "      <td>1</td>\n",
       "      <td>198</td>\n",
       "      <td>7.810250</td>\n",
       "      <td>0.763713</td>\n",
       "      <td>1</td>\n",
       "      <td>143</td>\n",
       "      <td>...</td>\n",
       "      <td>10.584802</td>\n",
       "      <td>12.484882</td>\n",
       "      <td>7.168680</td>\n",
       "      <td>2.885415</td>\n",
       "      <td>12.413973</td>\n",
       "      <td>10.260494</td>\n",
       "      <td>10.091351</td>\n",
       "      <td>9.270888</td>\n",
       "      <td>3.173994</td>\n",
       "      <td>13.921871</td>\n",
       "    </tr>\n",
       "    <tr>\n",
       "      <th>2</th>\n",
       "      <td>429</td>\n",
       "      <td>49</td>\n",
       "      <td>481</td>\n",
       "      <td>111</td>\n",
       "      <td>111</td>\n",
       "      <td>146</td>\n",
       "      <td>8.602325</td>\n",
       "      <td>0.651162</td>\n",
       "      <td>1</td>\n",
       "      <td>430</td>\n",
       "      <td>...</td>\n",
       "      <td>10.273114</td>\n",
       "      <td>14.030257</td>\n",
       "      <td>0.394970</td>\n",
       "      <td>8.160625</td>\n",
       "      <td>12.592059</td>\n",
       "      <td>8.937577</td>\n",
       "      <td>2.265191</td>\n",
       "      <td>11.255721</td>\n",
       "      <td>12.794841</td>\n",
       "      <td>12.080951</td>\n",
       "    </tr>\n",
       "    <tr>\n",
       "      <th>3</th>\n",
       "      <td>414</td>\n",
       "      <td>350</td>\n",
       "      <td>481</td>\n",
       "      <td>370</td>\n",
       "      <td>208</td>\n",
       "      <td>158</td>\n",
       "      <td>8.306624</td>\n",
       "      <td>0.424645</td>\n",
       "      <td>1</td>\n",
       "      <td>340</td>\n",
       "      <td>...</td>\n",
       "      <td>6.885179</td>\n",
       "      <td>2.789577</td>\n",
       "      <td>6.416708</td>\n",
       "      <td>10.549814</td>\n",
       "      <td>11.456437</td>\n",
       "      <td>6.468099</td>\n",
       "      <td>2.519049</td>\n",
       "      <td>0.258284</td>\n",
       "      <td>9.317696</td>\n",
       "      <td>5.383098</td>\n",
       "    </tr>\n",
       "    <tr>\n",
       "      <th>4</th>\n",
       "      <td>318</td>\n",
       "      <td>359</td>\n",
       "      <td>20</td>\n",
       "      <td>218</td>\n",
       "      <td>317</td>\n",
       "      <td>301</td>\n",
       "      <td>8.124038</td>\n",
       "      <td>0.767304</td>\n",
       "      <td>1</td>\n",
       "      <td>212</td>\n",
       "      <td>...</td>\n",
       "      <td>11.162686</td>\n",
       "      <td>1.886560</td>\n",
       "      <td>1.919999</td>\n",
       "      <td>2.268203</td>\n",
       "      <td>0.149421</td>\n",
       "      <td>4.105907</td>\n",
       "      <td>10.416291</td>\n",
       "      <td>6.816217</td>\n",
       "      <td>8.586960</td>\n",
       "      <td>4.512419</td>\n",
       "    </tr>\n",
       "  </tbody>\n",
       "</table>\n",
       "<p>5 rows × 53 columns</p>\n",
       "</div>"
      ],
      "text/plain": [
       "     0    1    2    3    4    5         6         7  8    9  ...         43  \\\n",
       "0  236  488   16  221  382   97 -4.472136  0.107472  0  132  ...  10.125020   \n",
       "1  386  206  357  232    1  198  7.810250  0.763713  1  143  ...  10.584802   \n",
       "2  429   49  481  111  111  146  8.602325  0.651162  1  430  ...  10.273114   \n",
       "3  414  350  481  370  208  158  8.306624  0.424645  1  340  ...   6.885179   \n",
       "4  318  359   20  218  317  301  8.124038  0.767304  1  212  ...  11.162686   \n",
       "\n",
       "          44        45         46         47         48         49         50  \\\n",
       "0  13.340874  0.870542   1.962937   7.466666  11.547794   8.822916   9.046424   \n",
       "1  12.484882  7.168680   2.885415  12.413973  10.260494  10.091351   9.270888   \n",
       "2  14.030257  0.394970   8.160625  12.592059   8.937577   2.265191  11.255721   \n",
       "3   2.789577  6.416708  10.549814  11.456437   6.468099   2.519049   0.258284   \n",
       "4   1.886560  1.919999   2.268203   0.149421   4.105907  10.416291   6.816217   \n",
       "\n",
       "          51         52  \n",
       "0   7.895535  11.010677  \n",
       "1   3.173994  13.921871  \n",
       "2  12.794841  12.080951  \n",
       "3   9.317696   5.383098  \n",
       "4   8.586960   4.512419  \n",
       "\n",
       "[5 rows x 53 columns]"
      ]
     },
     "execution_count": 8,
     "metadata": {},
     "output_type": "execute_result"
    }
   ],
   "source": [
    "X, y = get_train_data() \n",
    "\n",
    "print('Навчальні дані')\n",
    "X.head(5) "
   ]
  },
  {
   "cell_type": "code",
   "execution_count": 10,
   "id": "842fb8aa-771c-442a-9066-a5b09c194958",
   "metadata": {
    "tags": []
   },
   "outputs": [
    {
     "name": "stdout",
     "output_type": "stream",
     "text": [
      "Мітки\n"
     ]
    },
    {
     "data": {
      "text/plain": [
       "0    20.107472\n",
       "1    61.763713\n",
       "2    74.651162\n",
       "3    69.424645\n",
       "4    66.767304\n",
       "Name: target, dtype: float64"
      ]
     },
     "execution_count": 10,
     "metadata": {},
     "output_type": "execute_result"
    }
   ],
   "source": [
    "print('Мітки')\n",
    "y.head(5)"
   ]
  },
  {
   "cell_type": "markdown",
   "id": "e96cff1f-4932-4f26-82e0-950b8c4806c6",
   "metadata": {},
   "source": [
    "# Порівняння ефективності різних моделей"
   ]
  },
  {
   "cell_type": "code",
   "execution_count": 15,
   "id": "36e51ad9-1846-4c26-a69e-1af10ec88e79",
   "metadata": {
    "tags": []
   },
   "outputs": [
    {
     "name": "stdout",
     "output_type": "stream",
     "text": [
      "Linear Regression model\n",
      "RMSE: [29.00299256 28.81923884 29.00791037 28.75718606 28.94778811]\n",
      "Середнє RMSE: 28.907023187685677\n"
     ]
    }
   ],
   "source": [
    "def get_linear_regression_model():\n",
    "    return LinearRegression()\n",
    "\n",
    "model = get_linear_regression_model()\n",
    "scores = get_scores(df_normalized, y, model)\n",
    "print('Linear Regression model')\n",
    "print('RMSE:', -scores)\n",
    "print('Середнє RMSE:', -scores.mean())"
   ]
  },
  {
   "cell_type": "code",
   "execution_count": 7,
   "id": "a36484f7-fd9f-4c99-b521-d90c5a9b4629",
   "metadata": {
    "tags": []
   },
   "outputs": [
    {
     "name": "stdout",
     "output_type": "stream",
     "text": [
      "Random Forest Regressor\n",
      "RMSE: [0.00524162 0.00524754 0.00514509 0.00515969 0.00518581]\n",
      "Середнє RMSE: 0.005195949340273726\n"
     ]
    }
   ],
   "source": [
    "def get_random_forest_regressor():\n",
    "    return RandomForestRegressor(n_estimators=10)\n",
    "\n",
    "model = get_random_forest_regressor()\n",
    "scores = get_scores(X, y, model)\n",
    "print('Random Forest Regressor')\n",
    "print('RMSE:', -scores)\n",
    "print('Середнє RMSE:', -scores.mean())"
   ]
  },
  {
   "cell_type": "code",
   "execution_count": 19,
   "id": "55bb2b06-8066-41aa-bd9c-4442dd495496",
   "metadata": {
    "tags": []
   },
   "outputs": [
    {
     "name": "stdout",
     "output_type": "stream",
     "text": [
      "Gradiend Boosting Regressor\n",
      "RMSE: [11.92909356 11.80614628 11.96209471 11.76469236 11.90397561]\n",
      "Середнє RMSE: 11.873200505267594\n"
     ]
    }
   ],
   "source": [
    "def get_gradient_boosting_regressor():\n",
    "    return GradientBoostingRegressor(n_estimators=10)\n",
    "\n",
    "model = get_gradient_boosting_regressor()\n",
    "scores = get_scores(X, y, model)\n",
    "print('Gradiend Boosting Regressor')\n",
    "print('RMSE:', -scores)\n",
    "print('Середнє RMSE:', -scores.mean())"
   ]
  },
  {
   "cell_type": "code",
   "execution_count": 18,
   "id": "32a7e0ce-5214-414f-8d5d-1f51ae61017a",
   "metadata": {
    "tags": []
   },
   "outputs": [
    {
     "name": "stdout",
     "output_type": "stream",
     "text": [
      "Ridge\n",
      "RMSE: [29.00299293 28.81923917 29.00790964 28.75718542 28.94778714]\n",
      "Середнє RMSE: 28.907022860534266\n"
     ]
    }
   ],
   "source": [
    "def get_ridge():\n",
    "    return Ridge()\n",
    "\n",
    "model = get_ridge()\n",
    "scores = get_scores(X, y, model)\n",
    "print('Ridge')\n",
    "print('RMSE:', -scores)\n",
    "print('Середнє RMSE:', -scores.mean())"
   ]
  },
  {
   "cell_type": "code",
   "execution_count": 11,
   "id": "86f62314-f184-402e-9099-266e4ccdcba3",
   "metadata": {
    "tags": []
   },
   "outputs": [
    {
     "name": "stdout",
     "output_type": "stream",
     "text": [
      "SVR\n",
      "RMSE: [29.00521235 28.83586561 29.00808021 28.77137562 28.96169041]\n",
      "Середнє RMSE: 28.916444841695657\n"
     ]
    }
   ],
   "source": [
    "def get_svr():\n",
    "    return SVR()\n",
    "\n",
    "model = get_svr()\n",
    "scores = get_scores(X, y, model)\n",
    "print('SVR')\n",
    "print('RMSE:', -scores)\n",
    "print('Середнє RMSE:', -scores.mean())"
   ]
  }
 ],
 "metadata": {
  "kernelspec": {
   "display_name": "Python 3 (ipykernel)",
   "language": "python",
   "name": "python3"
  },
  "language_info": {
   "codemirror_mode": {
    "name": "ipython",
    "version": 3
   },
   "file_extension": ".py",
   "mimetype": "text/x-python",
   "name": "python",
   "nbconvert_exporter": "python",
   "pygments_lexer": "ipython3",
   "version": "3.9.0"
  }
 },
 "nbformat": 4,
 "nbformat_minor": 5
}
